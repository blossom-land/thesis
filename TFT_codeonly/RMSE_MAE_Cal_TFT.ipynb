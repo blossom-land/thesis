{
 "cells": [
  {
   "cell_type": "markdown",
   "metadata": {},
   "source": [
    "# RMSE & MAE in peak hour"
   ]
  },
  {
   "cell_type": "code",
   "execution_count": null,
   "metadata": {
    "pycharm": {
     "is_executing": true
    }
   },
   "outputs": [],
   "source": [
    "import pandas as pd\n",
    "prediction = 'TFT_AllTemporal_Station_0503_ypred_true.csv'\n",
    "prediction = pd.read_csv(prediction)\n"
   ]
  },
  {
   "cell_type": "code",
   "execution_count": null,
   "metadata": {
    "pycharm": {
     "is_executing": true
    }
   },
   "outputs": [],
   "source": [
    "prediction"
   ]
  },
  {
   "cell_type": "code",
   "execution_count": null,
   "metadata": {
    "pycharm": {
     "is_executing": true
    }
   },
   "outputs": [],
   "source": [
    "peakhour=prediction[(prediction.hour >= 7) & (prediction.hour <=21)]"
   ]
  },
  {
   "cell_type": "code",
   "execution_count": null,
   "metadata": {
    "pycharm": {
     "is_executing": true
    }
   },
   "outputs": [],
   "source": [
    "from sklearn.metrics import mean_absolute_error as mae\n",
    "\n",
    "#calculate MAE \n",
    "mae(peakhour[\"Demand\"], peakhour[\"Predictions\"])\n"
   ]
  },
  {
   "cell_type": "code",
   "execution_count": null,
   "metadata": {
    "pycharm": {
     "is_executing": true
    }
   },
   "outputs": [],
   "source": [
    "from sklearn.metrics import mean_squared_error\n",
    "#calculate RMSE \n",
    "rms = mean_squared_error(peakhour[\"Demand\"], peakhour[\"Predictions\"], squared=False)\n",
    "rms"
   ]
  },
  {
   "cell_type": "markdown",
   "metadata": {
    "pycharm": {
     "is_executing": true
    }
   },
   "source": [
    "## Cal Top 10 station with 272 data"
   ]
  },
  {
   "cell_type": "code",
   "execution_count": null,
   "metadata": {},
   "outputs": [],
   "source": [
    "# import pandas as pd\n",
    "df = 'TFT_AllTemporal_Station_0503_ypred_true.csv'\n",
    "df = pd.read_csv(df)\n",
    "\n",
    "station = [184,158,12,88,222,266,37,38,62,13]\n",
    "df=df.loc[df['Station'].isin(station)]\n",
    "df"
   ]
  },
  {
   "cell_type": "code",
   "execution_count": null,
   "metadata": {},
   "outputs": [],
   "source": [
    "from sklearn.metrics import mean_absolute_error as mae\n",
    "\n",
    "mae(df[\"Demand\"], df[\"Predictions\"])"
   ]
  },
  {
   "cell_type": "code",
   "execution_count": null,
   "metadata": {},
   "outputs": [],
   "source": [
    "from sklearn.metrics import mean_squared_error\n",
    " \n",
    "rms = mean_squared_error(df[\"Demand\"], df[\"Predictions\"], squared=False)\n",
    "rms"
   ]
  },
  {
   "cell_type": "markdown",
   "metadata": {},
   "source": [
    "## Top 25 station with 272 data\n"
   ]
  },
  {
   "cell_type": "code",
   "execution_count": null,
   "metadata": {},
   "outputs": [],
   "source": [
    "# import pandas as pd\n",
    "df = 'TFT_AllTemporal_Station_0503_ypred_true.csv'\n",
    "df = pd.read_csv(df)\n",
    "\n",
    "station = [184, 158, 12, 88, 222, 266, 37, 38, 62, 13,  142,  39,  238,  219,  210,  54,  211,  51,  60,  218,  230,  235,  57,  0,  30]\n",
    "df=df.loc[df['Station'].isin(station)]\n",
    "df"
   ]
  },
  {
   "cell_type": "code",
   "execution_count": null,
   "metadata": {},
   "outputs": [],
   "source": [
    "from sklearn.metrics import mean_absolute_error as mae\n",
    "\n",
    "mae(df[\"Demand\"], df[\"Predictions\"])"
   ]
  },
  {
   "cell_type": "code",
   "execution_count": null,
   "metadata": {},
   "outputs": [],
   "source": [
    "from sklearn.metrics import mean_squared_error\n",
    "\n",
    "rms = mean_squared_error(df[\"Demand\"], df[\"Predictions\"], squared=False)\n",
    "rms"
   ]
  },
  {
   "cell_type": "markdown",
   "metadata": {},
   "source": [
    "# Top 50 station with 272 data"
   ]
  },
  {
   "cell_type": "code",
   "execution_count": null,
   "metadata": {},
   "outputs": [],
   "source": [
    "# import pandas as pd\n",
    "df = 'TFT_AllTemporal_Station_0503_ypred_true.csv'\n",
    "df = pd.read_csv(df)\n",
    "\n",
    "station = [184,  158,  12,  88,  222,  266,  37,  38,  62,  13,  142,  39,  238,  219,  210,  54,  211,  51,  60,  218,  230,  235,  57,  0,  30,  223,  163,  225,  217,  159,  102,  196,  56,  138,  237,  231,  50,  6,  29,  105,  17,  167,  257,  11,  236,  228,  7,  185,  145,  229]\n",
    "df=df.loc[df['Station'].isin(station)]\n",
    "df"
   ]
  },
  {
   "cell_type": "code",
   "execution_count": null,
   "metadata": {},
   "outputs": [],
   "source": [
    "from sklearn.metrics import mean_absolute_error as mae\n",
    "\n",
    "mae(df[\"Demand\"], df[\"Predictions\"])"
   ]
  },
  {
   "cell_type": "code",
   "execution_count": null,
   "metadata": {},
   "outputs": [],
   "source": [
    "from sklearn.metrics import mean_squared_error\n",
    "\n",
    "rms = mean_squared_error(df[\"Demand\"], df[\"Predictions\"], squared=False)\n",
    "rms"
   ]
  },
  {
   "cell_type": "markdown",
   "metadata": {},
   "source": [
    "# Top 100 station with 272 data"
   ]
  },
  {
   "cell_type": "code",
   "execution_count": null,
   "metadata": {},
   "outputs": [],
   "source": [
    "# import pandas as pd\n",
    "df = 'TFT_AllTemporal_Station_0503_ypred_true.csv'\n",
    "df = pd.read_csv(df)\n",
    "\n",
    "station = [184,  158,  12,  88,  222,  266,  37,  38,  62,  13,  142,  39,  238,  219,  210,  54,  211,  51,  60,  218,  230,  235,  57,  0,  30,  223,  163,  225,  217,  159,  102,  196,  56,  138,  237,  231,  50,  6,  29,  105,  17,  167,  257,  11,  236,  228,  7,  185,  145,  229,  78,  212,  127,  226,  80,  156,  86,  45,  239,  224,  203,  82,  141,  41,  263,  215,  176,  220,  18,  256,  112,  97,  84,  92,  95,  8,  46,  40,  15,  4,  100,  1,  107,  99,  21,  227,  22,  85,  101,  83,  123,  106,  240,  208,  246,  144,  79,  14,  267,  209]\n",
    "df=df.loc[df['Station'].isin(station)]\n",
    "df"
   ]
  },
  {
   "cell_type": "code",
   "execution_count": null,
   "metadata": {},
   "outputs": [],
   "source": [
    "from sklearn.metrics import mean_absolute_error as mae\n",
    "\n",
    "mae(df[\"Demand\"], df[\"Predictions\"])"
   ]
  },
  {
   "cell_type": "code",
   "execution_count": null,
   "metadata": {},
   "outputs": [],
   "source": [
    "from sklearn.metrics import mean_squared_error\n",
    "\n",
    "rms = mean_squared_error(df[\"Demand\"], df[\"Predictions\"], squared=False)\n",
    "rms"
   ]
  }
 ],
 "metadata": {
  "kernelspec": {
   "display_name": "PyCharm (7-OfficialCode)",
   "language": "python",
   "name": "pycharm-1a7855c2"
  },
  "language_info": {
   "codemirror_mode": {
    "name": "ipython",
    "version": 3
   },
   "file_extension": ".py",
   "mimetype": "text/x-python",
   "name": "python",
   "nbconvert_exporter": "python",
   "pygments_lexer": "ipython3",
   "version": "3.8.6"
  }
 },
 "nbformat": 4,
 "nbformat_minor": 4
}