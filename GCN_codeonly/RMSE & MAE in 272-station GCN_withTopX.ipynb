{
 "cells": [
  {
   "cell_type": "markdown",
   "metadata": {},
   "source": [
    "# 272 stations in MAE & RMSE in sklearn "
   ]
  },
  {
   "cell_type": "code",
   "execution_count": null,
   "metadata": {
    "pycharm": {
     "is_executing": true
    }
   },
   "outputs": [],
   "source": [
    "import pandas as pd\n",
    "station272 = 'prediction_1hours.csv'\n",
    "station272_ypred = pd.read_csv(station272,header=None)\n",
    "station272_ypred\n",
    "station272_y_true = 'prediction_Y_1hours.csv'\n",
    "station272_y_true = pd.read_csv(station272_y_true,header=None)\n",
    "station272_y_true"
   ]
  },
  {
   "cell_type": "code",
   "execution_count": null,
   "metadata": {
    "pycharm": {
     "is_executing": true
    }
   },
   "outputs": [],
   "source": [
    "from sklearn.metrics import mean_absolute_error as mae\n",
    "mae(station272_y_true,station272_ypred)"
   ]
  },
  {
   "cell_type": "code",
   "execution_count": null,
   "metadata": {
    "pycharm": {
     "is_executing": true
    }
   },
   "outputs": [],
   "source": [
    "from sklearn.metrics import mean_squared_error\n",
    "\n",
    "rms = mean_squared_error(station272_y_true,station272_ypred, squared=False)\n",
    "rms\n"
   ]
  },
  {
   "cell_type": "markdown",
   "metadata": {},
   "source": [
    "# 272 stations in 07:00 - 21:00"
   ]
  },
  {
   "cell_type": "code",
   "execution_count": null,
   "metadata": {
    "pycharm": {
     "is_executing": true
    }
   },
   "outputs": [],
   "source": [
    "## 22024==2016-01-04 16:00:00\n",
    "## 24023==2016-03-27 23:00:00"
   ]
  },
  {
   "cell_type": "code",
   "execution_count": null,
   "metadata": {
    "pycharm": {
     "is_executing": true
    }
   },
   "outputs": [],
   "source": [
    "import pandas as pd\n",
    "station272 = 'prediction_1hours.csv'\n",
    "station272_ypred = pd.read_csv(station272, header=None)\n",
    "\n",
    "station272_y_true = 'prediction_Y_1hours.csv'\n",
    "station272_y_true = pd.read_csv(station272_y_true, header=None)\n",
    "station272_y_true"
   ]
  },
  {
   "cell_type": "code",
   "execution_count": null,
   "metadata": {
    "pycharm": {
     "is_executing": true
    }
   },
   "outputs": [],
   "source": [
    "import pandas as pd\n",
    "datelist = pd.date_range(start = pd.datetime(2016, 1, 4, 16),\n",
    "                         end = pd.datetime(2016, 3, 27, 23),\n",
    "                         freq = \"H\")\n",
    "station272_ypred[\"date\"]=datelist\n",
    "station272_y_true[\"date\"]=datelist\n",
    "station272_ypred.head()"
   ]
  },
  {
   "cell_type": "code",
   "execution_count": null,
   "metadata": {
    "pycharm": {
     "is_executing": true
    }
   },
   "outputs": [],
   "source": [
    "station272_ypred[\"hour\"] = station272_ypred.date.dt.hour\n",
    "station272_ypred.tail()"
   ]
  },
  {
   "cell_type": "code",
   "execution_count": null,
   "metadata": {
    "pycharm": {
     "is_executing": true
    }
   },
   "outputs": [],
   "source": [
    "station272_y_true[\"hour\"] = station272_y_true.date.dt.hour\n",
    "station272_y_true.tail()"
   ]
  },
  {
   "cell_type": "code",
   "execution_count": null,
   "metadata": {
    "pycharm": {
     "is_executing": true
    }
   },
   "outputs": [],
   "source": [
    "peakhour_ytrue=station272_y_true[(station272_y_true.hour >= 7) & (station272_y_true.hour <=21)]\n",
    "peakhour_ytrue"
   ]
  },
  {
   "cell_type": "code",
   "execution_count": null,
   "metadata": {
    "pycharm": {
     "is_executing": true
    }
   },
   "outputs": [],
   "source": [
    "peakhour_ypred=station272_ypred[(station272_ypred.hour >= 7) & (station272_ypred.hour <=21)]\n",
    "peakhour_ypred"
   ]
  },
  {
   "cell_type": "code",
   "execution_count": null,
   "metadata": {
    "pycharm": {
     "is_executing": true
    }
   },
   "outputs": [],
   "source": [
    "drop_peakhour_ypred=peakhour_ypred.drop(columns=['date', 'hour'])\n",
    "drop_peakhour_ytrue=peakhour_ytrue.drop(columns=['date', 'hour'])"
   ]
  },
  {
   "cell_type": "code",
   "execution_count": null,
   "metadata": {
    "pycharm": {
     "is_executing": true
    }
   },
   "outputs": [],
   "source": [
    "drop_peakhour_ytrue"
   ]
  },
  {
   "cell_type": "code",
   "execution_count": null,
   "metadata": {
    "pycharm": {
     "is_executing": true
    }
   },
   "outputs": [],
   "source": [
    "drop_peakhour_ypred"
   ]
  },
  {
   "cell_type": "code",
   "execution_count": null,
   "metadata": {
    "pycharm": {
     "is_executing": true
    }
   },
   "outputs": [],
   "source": [
    "from sklearn.metrics import mean_absolute_error as mae\n",
    "\n",
    "#calculate MAE on top 10 \n",
    "mae(drop_peakhour_ytrue,drop_peakhour_ypred)"
   ]
  },
  {
   "cell_type": "code",
   "execution_count": null,
   "metadata": {
    "pycharm": {
     "is_executing": true
    }
   },
   "outputs": [],
   "source": [
    "from sklearn.metrics import mean_squared_error\n",
    "#calculate RMSE on top 10 \n",
    "rms = mean_squared_error(drop_peakhour_ytrue, drop_peakhour_ypred, squared=False)\n",
    "rms"
   ]
  },
  {
   "cell_type": "markdown",
   "metadata": {},
   "source": [
    "# Top 10 Stations RMSE & MAE in 272-station GCNN model"
   ]
  },
  {
   "cell_type": "code",
   "execution_count": null,
   "metadata": {
    "pycharm": {
     "is_executing": true
    }
   },
   "outputs": [],
   "source": [
    "import pandas as pd\n",
    "top10in272_y_pred = 'prediction_1hours.csv'\n",
    "top10in272_y_pred = pd.read_csv(top10in272_y_pred,header=None)\n",
    "top10in272_y_pred = top10in272_y_pred.loc[:,[184,158,12,88,222,266,37,38,62,13]] \n",
    "\n",
    "top10in272_y_true = 'prediction_Y_1hours.csv'\n",
    "top10in272_y_true = pd.read_csv(top10in272_y_true,header=None)\n",
    "top10in272_y_true = top10in272_y_true.loc[:,[184,158,12,88,222,266,37,38,62,13]] \n",
    "\n",
    "top10in272_y_true"
   ]
  },
  {
   "cell_type": "code",
   "execution_count": null,
   "metadata": {
    "pycharm": {
     "is_executing": true
    }
   },
   "outputs": [],
   "source": [
    "from sklearn.metrics import mean_absolute_error as mae\n",
    "mae(top10in272_y_true,top10in272_y_pred)"
   ]
  },
  {
   "cell_type": "code",
   "execution_count": null,
   "metadata": {
    "pycharm": {
     "is_executing": true
    }
   },
   "outputs": [],
   "source": [
    "from sklearn.metrics import mean_squared_error\n",
    "\n",
    "rms = mean_squared_error(top10in272_y_true,top10in272_y_pred, squared=False)\n",
    "rms"
   ]
  },
  {
   "cell_type": "markdown",
   "metadata": {},
   "source": [
    "# Top 25 Stations RMSE & MAE in 272-station GCNN model"
   ]
  },
  {
   "cell_type": "code",
   "execution_count": null,
   "metadata": {
    "pycharm": {
     "is_executing": true
    }
   },
   "outputs": [],
   "source": [
    "##### import pandas as pd\n",
    "top25in272_y_pred = 'prediction_1hours.csv'\n",
    "top25in272_y_pred = pd.read_csv(top25in272_y_pred,header=None)\n",
    "top25in272_y_pred = top25in272_y_pred.loc[:,[184, 158, 12, 88, 222, 266, 37, 38, 62, 13,  142,  39,  238,  219,  210,  54,  211,  51,  60,  218,  230,  235,  57,  0,  30]] #TOp25 statio\n",
    "\n",
    "\n",
    "top25in272_y_true = 'prediction_Y_1hours.csv'\n",
    "top25in272_y_true = pd.read_csv(top25in272_y_true,header=None)\n",
    "top25in272_y_true = top25in272_y_true.loc[:,[184, 158, 12, 88, 222, 266, 37, 38, 62, 13,  142,  39,  238,  219,  210,  54,  211,  51,  60,  218,  230,  235,  57,  0,  30]] #TOp25 stati\n",
    "\n",
    "top25in272_y_true"
   ]
  },
  {
   "cell_type": "code",
   "execution_count": null,
   "metadata": {},
   "outputs": [],
   "source": [
    "from sklearn.metrics import mean_absolute_error as mae\n",
    "mae(top25in272_y_true,top25in272_y_pred)"
   ]
  },
  {
   "cell_type": "code",
   "execution_count": null,
   "metadata": {},
   "outputs": [],
   "source": [
    "from sklearn.metrics import mean_squared_error\n",
    "\n",
    "rms = mean_squared_error(top25in272_y_true,top25in272_y_pred, squared=False)\n",
    "rms"
   ]
  },
  {
   "cell_type": "markdown",
   "metadata": {},
   "source": [
    "# Top 50 Stations RMSE & MAE in 272-station GCNN model"
   ]
  },
  {
   "cell_type": "code",
   "execution_count": null,
   "metadata": {},
   "outputs": [],
   "source": [
    "##### import pandas as pd\n",
    "top50in272_y_pred = 'prediction_1hours.csv'\n",
    "top50in272_y_pred = pd.read_csv(top50in272_y_pred,header=None)\n",
    "top50in272_y_pred = top50in272_y_pred.loc[:,[184,  158,  12,  88,  222,  266,  37,  38,  62,  13,  142,  39,  238,  219,  210,  54,  211,  51,  60,  218,  230,  235,  57,  0,  30,  223,  163,  225,  217,  159,  102,  196,  56,  138,  237,  231,  50,  6,  29,  105,  17,  167,  257,  11,  236,  228,  7,  185,  145,  229]] \n",
    "\n",
    "top50in272_y_true = 'prediction_Y_1hours.csv'\n",
    "top50in272_y_true = pd.read_csv(top50in272_y_true,header=None)\n",
    "top50in272_y_true = top50in272_y_true.loc[:,[184,  158,  12,  88,  222,  266,  37,  38,  62,  13,  142,  39,  238,  219,  210,  54,  211,  51,  60,  218,  230,  235,  57,  0,  30,  223,  163,  225,  217,  159,  102,  196,  56,  138,  237,  231,  50,  6,  29,  105,  17,  167,  257,  11,  236,  228,  7,  185,  145,  229]]\n",
    "\n",
    "top50in272_y_true"
   ]
  },
  {
   "cell_type": "code",
   "execution_count": null,
   "metadata": {},
   "outputs": [],
   "source": [
    "from sklearn.metrics import mean_absolute_error as mae\n",
    "mae(top50in272_y_true,top50in272_y_pred)"
   ]
  },
  {
   "cell_type": "code",
   "execution_count": null,
   "metadata": {},
   "outputs": [],
   "source": [
    "from sklearn.metrics import mean_squared_error\n",
    "\n",
    "rms = mean_squared_error(top50in272_y_true,top50in272_y_pred, squared=False)\n",
    "rms"
   ]
  },
  {
   "cell_type": "markdown",
   "metadata": {},
   "source": [
    "# Top 100 Stations RMSE & MAE in 272-station GCNN model"
   ]
  },
  {
   "cell_type": "code",
   "execution_count": null,
   "metadata": {},
   "outputs": [],
   "source": [
    "##### import pandas as pd\n",
    "top100in272_y_pred = 'prediction_1hours.csv'\n",
    "top100in272_y_pred = pd.read_csv(top100in272_y_pred,header=None)\n",
    "top100in272_y_pred = top100in272_y_pred.loc[:,[184,  158,  12,  88,  222,  266,  37,  38,  62,  13,  142,  39,  238,  219,  210,  54,  211,  51,  60,  218,  230,  235,  57,  0,  30,  223,  163,  225,  217,  159,  102,  196,  56,  138,  237,  231,  50,  6,  29,  105,  17,  167,  257,  11,  236,  228,  7,  185,  145,  229,  78,  212,  127,  226,  80,  156,  86,  45,  239,  224,  203,  82,  141,  41,  263,  215,  176,  220,  18,  256,  112,  97,  84,  92,  95,  8,  46,  40,  15,  4,  100,  1,  107,  99,  21,  227,  22,  85,  101,  83,  123,  106,  240,  208,  246,  144,  79,  14,  267,  209]] \n",
    "\n",
    "top100in272_y_true = 'prediction_Y_1hours.csv'\n",
    "top100in272_y_true = pd.read_csv(top100in272_y_true,header=None)\n",
    "top100in272_y_true = top100in272_y_true.loc[:,[184,  158,  12,  88,  222,  266,  37,  38,  62,  13,  142,  39,  238,  219,  210,  54,  211,  51,  60,  218,  230,  235,  57,  0,  30,  223,  163,  225,  217,  159,  102,  196,  56,  138,  237,  231,  50,  6,  29,  105,  17,  167,  257,  11,  236,  228,  7,  185,  145,  229,  78,  212,  127,  226,  80,  156,  86,  45,  239,  224,  203,  82,  141,  41,  263,  215,  176,  220,  18,  256,  112,  97,  84,  92,  95,  8,  46,  40,  15,  4,  100,  1,  107,  99,  21,  227,  22,  85,  101,  83,  123,  106,  240,  208,  246,  144,  79,  14,  267,  209]]\n",
    "\n",
    "top100in272_y_true"
   ]
  },
  {
   "cell_type": "code",
   "execution_count": null,
   "metadata": {},
   "outputs": [],
   "source": [
    "from sklearn.metrics import mean_absolute_error as mae\n",
    "mae(top100in272_y_true,top100in272_y_pred)"
   ]
  },
  {
   "cell_type": "code",
   "execution_count": null,
   "metadata": {},
   "outputs": [],
   "source": [
    "from sklearn.metrics import mean_squared_error\n",
    "\n",
    "rms = mean_squared_error(top100in272_y_true,top100in272_y_pred, squared=False)\n",
    "rms"
   ]
  }
 ],
 "metadata": {
  "kernelspec": {
   "display_name": "Python 3",
   "language": "python",
   "name": "python3"
  },
  "language_info": {
   "codemirror_mode": {
    "name": "ipython",
    "version": 3
   },
   "file_extension": ".py",
   "mimetype": "text/x-python",
   "name": "python",
   "nbconvert_exporter": "python",
   "pygments_lexer": "ipython3",
   "version": "3.8.6"
  }
 },
 "nbformat": 4,
 "nbformat_minor": 4
}
